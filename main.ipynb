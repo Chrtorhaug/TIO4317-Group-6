{
 "cells": [
  {
   "cell_type": "markdown",
   "metadata": {},
   "source": [
    "# **Project Group 6**"
   ]
  },
  {
   "cell_type": "markdown",
   "metadata": {},
   "source": [
    "#### **Team Members:**\n",
    "| Name              | Student ID |\n",
    "| ----------------- | ---------- |\n",
    "| Danial Bashir   |   XXXXXX   | \n",
    "| Danial Rana   |   XXXXXX   |\n",
    "| Danny Le  |   XXXXXX   |\n",
    "| Christian Torhaug |   564355   |"
   ]
  },
  {
   "cell_type": "markdown",
   "metadata": {},
   "source": [
    "Imports"
   ]
  },
  {
   "cell_type": "code",
   "execution_count": 1,
   "metadata": {},
   "outputs": [],
   "source": [
    "import pandas as pd\n",
    "import numpy as np\n",
    "import matplotlib.pyplot as plt\n",
    "import statsmodels.tsa.arima.model as sm\n",
    "import statsmodels.stats.diagnostic as sd\n",
    "from arch import arch_model\n",
    "from arch.univariate import EGARCH\n",
    "from mvgarch.mgarch import DCCGARCH\n",
    "from mvgarch.ugarch import UGARCH"
   ]
  },
  {
   "cell_type": "markdown",
   "metadata": {},
   "source": [
    "#### Retrieving Data"
   ]
  },
  {
   "cell_type": "code",
   "execution_count": 45,
   "metadata": {},
   "outputs": [],
   "source": [
    "# S&P 500\n",
    "spx = pd.read_csv(\"S&P_500.csv\")\n",
    "spx['Date'] = pd.to_datetime(spx['Date'])\n",
    "\n",
    "# Russell 2000\n",
    "rut = pd.read_csv('Russell_2000.csv')\n",
    "rut['Date'] = pd.to_datetime(rut['Date'])"
   ]
  },
  {
   "cell_type": "markdown",
   "metadata": {},
   "source": [
    "Arima"
   ]
  },
  {
   "cell_type": "code",
   "execution_count": null,
   "metadata": {},
   "outputs": [],
   "source": [
    "best_aic = np.inf\n",
    "best_order = None\n",
    "best_model = None\n",
    "\n",
    "for p in range(6):\n",
    "    for q in range(6):\n",
    "        try:\n",
    "            model = sm.ARIMA(gasoline_data['Return'], order=(p, 0, q)).fit()\n",
    "            if model.aic < best_aic:\n",
    "                best_aic = model.aic\n",
    "                best_order = (p, 0, q)\n",
    "                best_model = model\n",
    "        except:\n",
    "            continue\n",
    "        \n",
    "print(best_model.summary())\n",
    "\n",
    "model = sm.ARIMA(gasoline_data['Return'], order=(4, 0, 4)).fit()\n",
    "\n",
    "resid = model.resid"
   ]
  },
  {
   "cell_type": "markdown",
   "metadata": {},
   "source": [
    "Garch"
   ]
  },
  {
   "cell_type": "code",
   "execution_count": null,
   "metadata": {},
   "outputs": [],
   "source": [
    "p_range = range(1, 5)\n",
    "q_range = range(1, 5)\n",
    "\n",
    "results = []\n",
    "\n",
    "for p in p_range:\n",
    "    for q in q_range:\n",
    "        try:\n",
    "            model = arch_model(resid, vol='GARCH', p=p, q=q, dist='normal')\n",
    "            fitted_model = model.fit(disp='off')\n",
    "            results.append({\n",
    "                'p': p,\n",
    "                'q': q,\n",
    "                'AIC': fitted_model.aic,\n",
    "                'BIC': fitted_model.bic\n",
    "            })\n",
    "        except Exception as e:\n",
    "            print(f\"Model GARCH({p},{q}) failed: {e}\")\n",
    "            \n",
    "results_df = pd.DataFrame(results)\n",
    "results_df.sort_values(by='AIC', inplace=True)\n",
    "print(results_df.head())\n",
    "\n",
    "best_aic_model = results_df.loc[results_df['AIC'].idxmin()]\n",
    "best_bic_model = results_df.loc[results_df['BIC'].idxmin()]\n",
    "\n",
    "print(f\"Best model by AIC: GARCH({int(best_aic_model['p'])},{int(best_aic_model['q'])}) with AIC = {best_aic_model['AIC']:.4f}\")\n",
    "print(f\"Best model by BIC: GARCH({int(best_bic_model['p'])},{int(best_bic_model['q'])}) with BIC = {best_bic_model['BIC']:.4f}\")\n"
   ]
  },
  {
   "cell_type": "markdown",
   "metadata": {},
   "source": [
    "Stationarity Test"
   ]
  },
  {
   "cell_type": "code",
   "execution_count": null,
   "metadata": {},
   "outputs": [],
   "source": [
    "model = arch_model(resid*100, vol='GARCH', p=1, q=2, dist='normal')\n",
    "model = model.fit(disp='off')\n",
    "\n",
    "params = model.params\n",
    "stationarity_sum = params['alpha[1]'] + params['beta[1]'] + params['beta[2]']\n",
    "\n",
    "print(f\"The Stationarity sum is {stationarity_sum}\")"
   ]
  },
  {
   "cell_type": "markdown",
   "metadata": {},
   "source": [
    "Tarch"
   ]
  },
  {
   "cell_type": "code",
   "execution_count": null,
   "metadata": {},
   "outputs": [],
   "source": [
    "max_p = 5 \n",
    "max_q = 5\n",
    "\n",
    "results = []\n",
    "\n",
    "for p in range(1, max_p + 1):\n",
    "    for q in range(1, max_q + 1):\n",
    "        try:\n",
    "            model = arch_model(resid, vol='GARCH', p=p, o=1, q=q, dist='normal').fit(disp='off')\n",
    "            results.append({\n",
    "                'p': p, 'q': q,\n",
    "                'AIC': model.aic,\n",
    "                'BIC': model.bic\n",
    "            })\n",
    "        except Exception as e:\n",
    "            print(f\"TARCH({p},{q}) failed to converge.\")\n",
    "\n",
    "\n",
    "results_df = pd.DataFrame(results)\n",
    "\n",
    "best_aic_model = results_df.loc[results_df['AIC'].idxmin()]\n",
    "best_bic_model = results_df.loc[results_df['BIC'].idxmin()]\n",
    "\n",
    "print(f\"Best model by AIC: TARCH({int(best_aic_model['p'])},{int(best_aic_model['q'])}) with AIC = {best_aic_model['AIC']:.4f}\")\n",
    "print(f\"Best model by BIC: TARCH({int(best_bic_model['p'])},{int(best_bic_model['q'])}) with BIC = {best_bic_model['BIC']:.4f}\")\n"
   ]
  },
  {
   "cell_type": "code",
   "execution_count": null,
   "metadata": {},
   "outputs": [],
   "source": [
    "combined_data = pd.merge(gasoline_data, brent_data, left_index=True, right_index=True, suffixes=('_Gasoline', '_Brent')).dropna()\n",
    "\n",
    "# GARCH with Brent Data as exogenous variable\n",
    "\n",
    "model = arch_model(combined_data['Return_Gasoline'],  vol='GARCH', p=1, q=1, x=combined_data['Return_Brent'], dist='normal')\n",
    "garchx_result = model.fit(disp='off')\n",
    "\n",
    "#print(garchx_result.summary())\n",
    "fitted_volatility = garchx_result.conditional_volatility\n",
    "\n",
    "plt.figure(figsize=(14, 7))\n",
    "plt.plot(fitted_volatility, label='Gasoline Conditional Volatility', color='blue', alpha=0.7)\n",
    "plt.twinx()\n",
    "plt.plot(combined_data['Return_Brent'], label='Brent Returns', color='red', alpha=0.4)\n",
    "plt.title('Conditional Volatility of Gasoline Returns with Brent Returns')\n",
    "plt.xlabel('Date')\n",
    "plt.ylabel('Volatility / Returns')\n",
    "plt.legend(loc='upper left')\n",
    "plt.show()"
   ]
  },
  {
   "cell_type": "markdown",
   "metadata": {},
   "source": [
    "DCC-Garch"
   ]
  },
  {
   "cell_type": "code",
   "execution_count": null,
   "metadata": {},
   "outputs": [],
   "source": [
    "#The general framework is from https://github.com/jack-tobin/mvgarch because it does not exist a standard framework for Multivariate GARCH\n",
    "\n",
    "garch = UGARCH(order=(1, 1))\n",
    "garch.spec(returns=gasoline_data[\"Return\"])\n",
    "garch.fit()\n",
    "\n",
    "garch_specs = [UGARCH(order=(1, 1)), UGARCH(order=(1, 1))]\n",
    "dcc = DCCGARCH()\n",
    "dcc.spec(ugarch_objs=garch_specs, returns=combined_data[[\"Return_Gasoline\", \"Return_Brent\"]])\n",
    "dcc.fit()\n",
    "dcc.plot()"
   ]
  }
 ],
 "metadata": {
  "kernelspec": {
   "display_name": "base",
   "language": "python",
   "name": "python3"
  },
  "language_info": {
   "codemirror_mode": {
    "name": "ipython",
    "version": 3
   },
   "file_extension": ".py",
   "mimetype": "text/x-python",
   "name": "python",
   "nbconvert_exporter": "python",
   "pygments_lexer": "ipython3",
   "version": "3.9.19"
  }
 },
 "nbformat": 4,
 "nbformat_minor": 2
}
